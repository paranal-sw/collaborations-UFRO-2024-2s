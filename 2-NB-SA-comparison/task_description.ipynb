{
 "cells": [
  {
   "cell_type": "markdown",
   "metadata": {},
   "source": [
    "# Compare Naive Bayes and Sentiment Analysis to predict errors"
   ]
  },
  {
   "cell_type": "markdown",
   "metadata": {},
   "source": [
    "Note: this notebook is also available in [Google Colaboratoy](https://colab.research.google.com/github/paranal-sw/collaborations-UFRO-2024-2s/blob/main/2-NB-SA-comparison/task_description.ipynb)\n",
    "\n",
    "The observations at Paranal can end in three stages: STOP, ABORT by USER, ERROR (Aborted by system). Naive-Bayes models captures some of those events that leads to errors. In https://github.com/paranal-sw/parlogs-observations/blob/main/notebooks/04-naive-bayes.ipynb a simple Naive Bayes classificator is shown that predicts the df_meta[\"ERROR\"] column based on some simple tokenizations. \n",
    "\n",
    "But if you see, some messages are clearly an indication of errors, for example \n",
    "\n",
    "```\n",
    "issalignERR_EVT_TIMEOUT : TIMEOUT in sub-state <STRTLAG: Wait for IRIS Lab Guiding Event> while waiting for event.\n",
    "```\n",
    "\n",
    "The emotional tone of certain words like \"err\" or \"timeout\" could be captured by sentiment-analysis models and we believe that studying event logs by labelling its emotional tone in positive or negative could have predictive usefulness.\n",
    "\n",
    "\n",
    "\n",
    "## Objectives\n",
    "1. Dimensionality reduction, change the tokenization to remove all numbers using regexp. \n",
    "2. Train a Naive Bayes with all tokenized logs, not just logtype=ERR, and label the traces with a new \"NB\" column\n",
    "3. Search and apply some Sentiment Analysis models, label the traces with \"SA_1\", \"SA_2\"... ([hint](https://huggingface.co/blog/sentiment-analysis-python))\n",
    "4. Look for correlations in NB regarding the different values in \"SA_1\", \"SA_2\"...\n",
    "5. Report with specific examples of (events, NB score, SA score) to understand what is happening behind scenes."
   ]
  },
  {
   "cell_type": "code",
   "execution_count": 1,
   "metadata": {},
   "outputs": [
    {
     "name": "stdout",
     "output_type": "stream",
     "text": [
      "Requirement already satisfied: pandas in /Users/jgil/Code/collaborations-UFRO-2024-2s/venv/lib/python3.10/site-packages (from -r ../requirements.txt (line 1)) (2.2.2)\n",
      "Requirement already satisfied: numpy in /Users/jgil/Code/collaborations-UFRO-2024-2s/venv/lib/python3.10/site-packages (from -r ../requirements.txt (line 2)) (2.1.0)\n",
      "Requirement already satisfied: streamlit in /Users/jgil/Code/collaborations-UFRO-2024-2s/venv/lib/python3.10/site-packages (from -r ../requirements.txt (line 3)) (1.38.0)\n",
      "Requirement already satisfied: python-dateutil>=2.8.2 in /Users/jgil/Code/collaborations-UFRO-2024-2s/venv/lib/python3.10/site-packages (from pandas->-r ../requirements.txt (line 1)) (2.9.0.post0)\n",
      "Requirement already satisfied: pytz>=2020.1 in /Users/jgil/Code/collaborations-UFRO-2024-2s/venv/lib/python3.10/site-packages (from pandas->-r ../requirements.txt (line 1)) (2024.1)\n",
      "Requirement already satisfied: tzdata>=2022.7 in /Users/jgil/Code/collaborations-UFRO-2024-2s/venv/lib/python3.10/site-packages (from pandas->-r ../requirements.txt (line 1)) (2024.1)\n",
      "Requirement already satisfied: altair<6,>=4.0 in /Users/jgil/Code/collaborations-UFRO-2024-2s/venv/lib/python3.10/site-packages (from streamlit->-r ../requirements.txt (line 3)) (5.4.1)\n",
      "Requirement already satisfied: blinker<2,>=1.0.0 in /Users/jgil/Code/collaborations-UFRO-2024-2s/venv/lib/python3.10/site-packages (from streamlit->-r ../requirements.txt (line 3)) (1.8.2)\n",
      "Requirement already satisfied: cachetools<6,>=4.0 in /Users/jgil/Code/collaborations-UFRO-2024-2s/venv/lib/python3.10/site-packages (from streamlit->-r ../requirements.txt (line 3)) (5.5.0)\n",
      "Requirement already satisfied: click<9,>=7.0 in /Users/jgil/Code/collaborations-UFRO-2024-2s/venv/lib/python3.10/site-packages (from streamlit->-r ../requirements.txt (line 3)) (8.1.7)\n",
      "Requirement already satisfied: packaging<25,>=20 in /Users/jgil/Code/collaborations-UFRO-2024-2s/venv/lib/python3.10/site-packages (from streamlit->-r ../requirements.txt (line 3)) (24.1)\n",
      "Requirement already satisfied: pillow<11,>=7.1.0 in /Users/jgil/Code/collaborations-UFRO-2024-2s/venv/lib/python3.10/site-packages (from streamlit->-r ../requirements.txt (line 3)) (10.4.0)\n",
      "Requirement already satisfied: protobuf<6,>=3.20 in /Users/jgil/Code/collaborations-UFRO-2024-2s/venv/lib/python3.10/site-packages (from streamlit->-r ../requirements.txt (line 3)) (5.28.0)\n",
      "Requirement already satisfied: pyarrow>=7.0 in /Users/jgil/Code/collaborations-UFRO-2024-2s/venv/lib/python3.10/site-packages (from streamlit->-r ../requirements.txt (line 3)) (17.0.0)\n",
      "Requirement already satisfied: requests<3,>=2.27 in /Users/jgil/Code/collaborations-UFRO-2024-2s/venv/lib/python3.10/site-packages (from streamlit->-r ../requirements.txt (line 3)) (2.32.3)\n",
      "Requirement already satisfied: rich<14,>=10.14.0 in /Users/jgil/Code/collaborations-UFRO-2024-2s/venv/lib/python3.10/site-packages (from streamlit->-r ../requirements.txt (line 3)) (13.8.0)\n",
      "Requirement already satisfied: tenacity<9,>=8.1.0 in /Users/jgil/Code/collaborations-UFRO-2024-2s/venv/lib/python3.10/site-packages (from streamlit->-r ../requirements.txt (line 3)) (8.5.0)\n",
      "Requirement already satisfied: toml<2,>=0.10.1 in /Users/jgil/Code/collaborations-UFRO-2024-2s/venv/lib/python3.10/site-packages (from streamlit->-r ../requirements.txt (line 3)) (0.10.2)\n",
      "Requirement already satisfied: typing-extensions<5,>=4.3.0 in /Users/jgil/Code/collaborations-UFRO-2024-2s/venv/lib/python3.10/site-packages (from streamlit->-r ../requirements.txt (line 3)) (4.12.2)\n",
      "Requirement already satisfied: gitpython!=3.1.19,<4,>=3.0.7 in /Users/jgil/Code/collaborations-UFRO-2024-2s/venv/lib/python3.10/site-packages (from streamlit->-r ../requirements.txt (line 3)) (3.1.43)\n",
      "Requirement already satisfied: pydeck<1,>=0.8.0b4 in /Users/jgil/Code/collaborations-UFRO-2024-2s/venv/lib/python3.10/site-packages (from streamlit->-r ../requirements.txt (line 3)) (0.9.1)\n",
      "Requirement already satisfied: tornado<7,>=6.0.3 in /Users/jgil/Code/collaborations-UFRO-2024-2s/venv/lib/python3.10/site-packages (from streamlit->-r ../requirements.txt (line 3)) (6.4.1)\n",
      "Requirement already satisfied: jinja2 in /Users/jgil/Code/collaborations-UFRO-2024-2s/venv/lib/python3.10/site-packages (from altair<6,>=4.0->streamlit->-r ../requirements.txt (line 3)) (3.1.4)\n",
      "Requirement already satisfied: jsonschema>=3.0 in /Users/jgil/Code/collaborations-UFRO-2024-2s/venv/lib/python3.10/site-packages (from altair<6,>=4.0->streamlit->-r ../requirements.txt (line 3)) (4.23.0)\n",
      "Requirement already satisfied: narwhals>=1.5.2 in /Users/jgil/Code/collaborations-UFRO-2024-2s/venv/lib/python3.10/site-packages (from altair<6,>=4.0->streamlit->-r ../requirements.txt (line 3)) (1.5.5)\n",
      "Requirement already satisfied: gitdb<5,>=4.0.1 in /Users/jgil/Code/collaborations-UFRO-2024-2s/venv/lib/python3.10/site-packages (from gitpython!=3.1.19,<4,>=3.0.7->streamlit->-r ../requirements.txt (line 3)) (4.0.11)\n",
      "Requirement already satisfied: six>=1.5 in /Users/jgil/Code/collaborations-UFRO-2024-2s/venv/lib/python3.10/site-packages (from python-dateutil>=2.8.2->pandas->-r ../requirements.txt (line 1)) (1.16.0)\n",
      "Requirement already satisfied: charset-normalizer<4,>=2 in /Users/jgil/Code/collaborations-UFRO-2024-2s/venv/lib/python3.10/site-packages (from requests<3,>=2.27->streamlit->-r ../requirements.txt (line 3)) (3.3.2)\n",
      "Requirement already satisfied: idna<4,>=2.5 in /Users/jgil/Code/collaborations-UFRO-2024-2s/venv/lib/python3.10/site-packages (from requests<3,>=2.27->streamlit->-r ../requirements.txt (line 3)) (3.8)\n",
      "Requirement already satisfied: urllib3<3,>=1.21.1 in /Users/jgil/Code/collaborations-UFRO-2024-2s/venv/lib/python3.10/site-packages (from requests<3,>=2.27->streamlit->-r ../requirements.txt (line 3)) (2.2.2)\n",
      "Requirement already satisfied: certifi>=2017.4.17 in /Users/jgil/Code/collaborations-UFRO-2024-2s/venv/lib/python3.10/site-packages (from requests<3,>=2.27->streamlit->-r ../requirements.txt (line 3)) (2024.8.30)\n",
      "Requirement already satisfied: markdown-it-py>=2.2.0 in /Users/jgil/Code/collaborations-UFRO-2024-2s/venv/lib/python3.10/site-packages (from rich<14,>=10.14.0->streamlit->-r ../requirements.txt (line 3)) (3.0.0)\n",
      "Requirement already satisfied: pygments<3.0.0,>=2.13.0 in /Users/jgil/Code/collaborations-UFRO-2024-2s/venv/lib/python3.10/site-packages (from rich<14,>=10.14.0->streamlit->-r ../requirements.txt (line 3)) (2.18.0)\n",
      "Requirement already satisfied: smmap<6,>=3.0.1 in /Users/jgil/Code/collaborations-UFRO-2024-2s/venv/lib/python3.10/site-packages (from gitdb<5,>=4.0.1->gitpython!=3.1.19,<4,>=3.0.7->streamlit->-r ../requirements.txt (line 3)) (5.0.1)\n",
      "Requirement already satisfied: MarkupSafe>=2.0 in /Users/jgil/Code/collaborations-UFRO-2024-2s/venv/lib/python3.10/site-packages (from jinja2->altair<6,>=4.0->streamlit->-r ../requirements.txt (line 3)) (2.1.5)\n",
      "Requirement already satisfied: attrs>=22.2.0 in /Users/jgil/Code/collaborations-UFRO-2024-2s/venv/lib/python3.10/site-packages (from jsonschema>=3.0->altair<6,>=4.0->streamlit->-r ../requirements.txt (line 3)) (24.2.0)\n",
      "Requirement already satisfied: jsonschema-specifications>=2023.03.6 in /Users/jgil/Code/collaborations-UFRO-2024-2s/venv/lib/python3.10/site-packages (from jsonschema>=3.0->altair<6,>=4.0->streamlit->-r ../requirements.txt (line 3)) (2023.12.1)\n",
      "Requirement already satisfied: referencing>=0.28.4 in /Users/jgil/Code/collaborations-UFRO-2024-2s/venv/lib/python3.10/site-packages (from jsonschema>=3.0->altair<6,>=4.0->streamlit->-r ../requirements.txt (line 3)) (0.35.1)\n",
      "Requirement already satisfied: rpds-py>=0.7.1 in /Users/jgil/Code/collaborations-UFRO-2024-2s/venv/lib/python3.10/site-packages (from jsonschema>=3.0->altair<6,>=4.0->streamlit->-r ../requirements.txt (line 3)) (0.20.0)\n",
      "Requirement already satisfied: mdurl~=0.1 in /Users/jgil/Code/collaborations-UFRO-2024-2s/venv/lib/python3.10/site-packages (from markdown-it-py>=2.2.0->rich<14,>=10.14.0->streamlit->-r ../requirements.txt (line 3)) (0.1.2)\n"
     ]
    }
   ],
   "source": [
    "# If use in Colab, run:\n",
    "!pip install -r ../requirements.txt"
   ]
  }
 ],
 "metadata": {
  "kernelspec": {
   "display_name": "venv",
   "language": "python",
   "name": "python3"
  },
  "language_info": {
   "codemirror_mode": {
    "name": "ipython",
    "version": 3
   },
   "file_extension": ".py",
   "mimetype": "text/x-python",
   "name": "python",
   "nbconvert_exporter": "python",
   "pygments_lexer": "ipython3",
   "version": "3.10.9"
  }
 },
 "nbformat": 4,
 "nbformat_minor": 2
}
