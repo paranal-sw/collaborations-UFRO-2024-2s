# Este es un notebook de ejemplo.
