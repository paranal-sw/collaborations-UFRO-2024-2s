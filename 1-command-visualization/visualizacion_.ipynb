{
 "cells": [
  {
   "cell_type": "markdown",
   "metadata": {},
   "source": [
    "# Información de Campos del dataframe\n",
    "\n",
    "| Field   | Comment                                                                 |\n",
    "|---------|-------------------------------------------------------------------------|\n",
    "| START   | The start timestamp of the template execution in milliseconds           |\n",
    "| END     | The end timestamp of the template execution in milliseconds             |\n",
    "| TIMEOUT | Indicates if the execution exceeded a predefined time limit             |\n",
    "| system  | The name of the system used (e.g., PIONIER)                             |\n",
    "| procname| The process name associated with the template execution                 |\n",
    "| TPL_ID  | The filename of the corresponding template file                         |\n",
    "| ERROR   | Indicates if there was an error during execution                        |\n",
    "| Aborted | Indicates if the template execution was aborted (manually or because an error) |\n",
    "| SECONDS | The duration of the template execution in seconds                       |\n",
    "| TEL     | The class of telescope used in the observation, in this dataset it is only AT |"
   ]
  },
  {
   "cell_type": "markdown",
   "metadata": {},
   "source": [
    "# Información de Campos de Log (metadata de los Log)\n",
    "\n",
    "| Field       | Description                                                                                           |\n",
    "|-------------|-------------------------------------------------------------------------------------------------------|\n",
    "| @timestamp  | The timestamp of the log entry in milliseconds.                                                       |\n",
    "| system      | The name of the system (e.g., PIONIER) from which the log entry originates.                           |\n",
    "| hostname    | The hostname of the machine where the log entry was generated.                                        |\n",
    "| loghost     | The host of the logging system that generated the entry.                                              |\n",
    "| logtype     | Type of the log entry (e.g., LOG, FEVT, ERR), indicating its nature such as general log, event, or error. |\n",
    "| envname     | The environment name where the log was generated, providing context for the log entry.                |\n",
    "| procname    | The name of the process that generated the log entry.                                                 |\n",
    "| procid      | The process ID associated with the log entry.                                                         |\n",
    "| module      | The module from which the log entry originated, indicating the specific part of the system.           |\n",
    "| keywname    | Name of any keyword associated with the log entry, if applicable. It is always paired with keywvalue. |\n",
    "| keywvalue   | Value of the keyword mentioned in keywname, if applicable.                                            |\n",
    "| keywmask    | Mask or additional context for the keyword, if applicable.                                            |\n",
    "| logtext     | The actual text of the log entry, providing detailed information about the event or action.           |\n",
    "| trace_id    | A unique identifier associated with each log entry, corresponds to id in metadata table.              |"
   ]
  },
  {
   "cell_type": "code",
   "execution_count": 1,
   "metadata": {},
   "outputs": [
    {
     "name": "stdout",
     "output_type": "stream",
     "text": [
      "Columnas en df_meta: Index(['START', 'END', 'TIMEOUT', 'system', 'procname', 'TPL_ID', 'ERROR',\n",
      "       'Aborted', 'SECONDS', 'TEL'],\n",
      "      dtype='object')\n",
      "Columnas en df_trace: Index(['@timestamp', 'system', 'hostname', 'loghost', 'logtype', 'envname',\n",
      "       'procname', 'procid', 'module', 'keywname', 'keywvalue', 'keywmask',\n",
      "       'logtext', 'trace_id'],\n",
      "      dtype='object')\n"
     ]
    },
    {
     "data": {
      "text/plain": [
       "CompletedProcess(args=['java', '-jar', 'plantuml.jar', 'dynamic_diagram.puml'], returncode=1)"
      ]
     },
     "execution_count": 1,
     "metadata": {},
     "output_type": "execute_result"
    }
   ],
   "source": [
    "import os\n",
    "import pandas as pd\n",
    "import subprocess\n",
    "from urllib.request import urlretrieve\n",
    "\n",
    "REPO_URL = 'https://huggingface.co/datasets/Paranal/parlogs-observations/resolve/main/data'\n",
    "\n",
    "if 'COLAB_RELEASE_TAG' in os.environ.keys():\n",
    "    PATH = 'data/'  # Convenient name to be Colab compatible\n",
    "else:\n",
    "    PATH = 'D:/Ufro/11 nivel/Lab modelacion 2/Trabajo_paramal/collaborations-UFRO-2024-2s/data'  # Local directory to your system\n",
    "\n",
    "def load_dataset(INSTRUMENT, RANGE):\n",
    "    fname = f'{INSTRUMENT}-{RANGE}-traces.parket'\n",
    "    if not os.path.exists(f'{PATH}/{fname}'):\n",
    "        urlretrieve(f'{REPO_URL}/{fname}', f'{PATH}/{fname}')\n",
    "    df_inst = pd.read_parquet(f'{PATH}/{fname}')\n",
    "\n",
    "    fname = f'{INSTRUMENT}-{RANGE}-traces-SUBSYSTEMS.parket'\n",
    "    if not os.path.exists(f'{PATH}/{fname}'):\n",
    "        urlretrieve(f'{REPO_URL}/{fname}', f'{PATH}/{fname}')\n",
    "    df_subs = pd.read_parquet(f'{PATH}/{fname}')\n",
    "\n",
    "    fname = f'{INSTRUMENT}-{RANGE}-traces-TELESCOPES.parket'\n",
    "    if not os.path.exists(f'{PATH}/{fname}'):\n",
    "        urlretrieve(f'{REPO_URL}/{fname}', f'{PATH}/{fname}')\n",
    "    df_tele = pd.read_parquet(f'{PATH}/{fname}')\n",
    "\n",
    "    all_traces = [df_inst, df_subs, df_tele]\n",
    "\n",
    "    df_all = pd.concat(all_traces)\n",
    "    df_all.sort_values('@timestamp', inplace=True)\n",
    "    df_all.reset_index(drop=True, inplace=True)\n",
    "\n",
    "    return df_all\n",
    "\n",
    "def load_trace(INSTRUMENT, RANGE, trace_id):\n",
    "    df_all = load_dataset(INSTRUMENT, RANGE)\n",
    "    df_all = df_all[df_all['trace_id'] == trace_id]\n",
    "    return df_all\n",
    "\n",
    "def load_meta(INSTRUMENT, RANGE):\n",
    "    fname = f'{INSTRUMENT}-{RANGE}-meta.parket'\n",
    "    if not os.path.exists(f'{PATH}/{fname}'):\n",
    "        urlretrieve(f'{REPO_URL}/{fname}', f'{PATH}/{fname}')\n",
    "    df_meta = pd.read_parquet(f'{PATH}/{fname}')\n",
    "    return df_meta\n",
    "\n",
    "# Función para generar el código PlantUML para un solo usuario\n",
    "def generate_plantuml_code_single_user(meta_row, trace_row):\n",
    "    uml_code = \"@startuml\\n\"\n",
    "    uml_code += \"actor User\\n\"\n",
    "    uml_code += \"participant System\\n\"\n",
    "    uml_code += \"participant Instrument\\n\"\n",
    "    uml_code += \"participant Subsystem\\n\\n\"\n",
    "\n",
    "    start_time = meta_row['START']\n",
    "    end_time = meta_row['END']\n",
    "    procname = meta_row['procname']\n",
    "    status = 'success' if not meta_row['ERROR'] else 'failure'\n",
    "    logtext = trace_row['logtext']\n",
    "\n",
    "    uml_code += f\"User -> System: Send Command ({procname})\\n\"\n",
    "    uml_code += \"activate System\\n\"\n",
    "    uml_code += f\"System -> Instrument: Forward Command ({procname})\\n\"\n",
    "    uml_code += \"activate Instrument\\n\"\n",
    "    uml_code += f\"Instrument -> Subsystem: Execute Command ({procname})\\n\"\n",
    "    uml_code += \"activate Subsystem\\n\\n\"\n",
    "\n",
    "    if status == 'success':\n",
    "        uml_code += f\"Subsystem -> Instrument: Return Success ({start_time}, {end_time})\\n\"\n",
    "    else:\n",
    "        uml_code += f\"Subsystem -> Instrument: Return Failure ({start_time}, {end_time})\\n\"\n",
    "    \n",
    "    uml_code += \"deactivate Subsystem\\n\\n\"\n",
    "    uml_code += f\"Instrument -> System: Return Status ({status})\\n\"\n",
    "    uml_code += \"deactivate Instrument\\n\\n\"\n",
    "    uml_code += f\"System -> User: Return Status ({status})\\n\"\n",
    "    uml_code += \"deactivate System\\n\\n\"\n",
    "    uml_code += f\"note right of System: Log Entry - {logtext}\\n\"\n",
    "\n",
    "    uml_code += \"@enduml\"\n",
    "    return uml_code\n",
    "\n",
    "# Cargar los datos de observación y metadatos\n",
    "INSTRUMENT = \"PIONIER\"\n",
    "RANGE = \"1w\"\n",
    "TRACE_ID = 30  # Ejemplo de trace_id, ajusta según tus datos\n",
    "\n",
    "df_meta = load_meta(INSTRUMENT, RANGE)\n",
    "df_trace = load_trace(INSTRUMENT, RANGE, TRACE_ID)\n",
    "\n",
    "# Verificar las columnas de los DataFrames\n",
    "print(\"Columnas en df_meta:\", df_meta.columns)\n",
    "print(\"Columnas en df_trace:\", df_trace.columns)\n",
    "\n",
    "# Seleccionar una fila del DataFrame para el usuario\n",
    "\n",
    "meta_row=df_meta.iloc[TRACE_ID]\n",
    "\n",
    "\n",
    "if 'trace_id' in df_trace.columns:\n",
    "    trace_row = df_trace.iloc[0]\n",
    "else:\n",
    "    print(\"La columna 'trace_id' no está presente en df_trace. Verifica el nombre de la columna.\")\n",
    "\n",
    "# Generar el código PlantUML para un solo usuario\n",
    "uml_code = generate_plantuml_code_single_user(meta_row, trace_row)\n",
    "\n",
    "# Guardar el código PlantUML en un archivo\n",
    "with open('dynamic_diagram.puml', 'w') as file:\n",
    "    file.write(uml_code)\n",
    "\n",
    "# Renderizar el diagrama usando PlantUML a través de subprocess\n",
    "subprocess.run(['java', '-jar', 'plantuml.jar', 'dynamic_diagram.puml'])"
   ]
  },
  {
   "cell_type": "code",
   "execution_count": 2,
   "metadata": {},
   "outputs": [],
   "source": [
    "from PIL import Image"
   ]
  },
  {
   "cell_type": "code",
   "execution_count": 3,
   "metadata": {},
   "outputs": [
    {
     "data": {
      "text/plain": [
       "START       2019-04-02 10:18:42.266000\n",
       "END         2019-04-02 10:18:55.430000\n",
       "TIMEOUT                          False\n",
       "system                         PIONIER\n",
       "procname                       bob_ins\n",
       "TPL_ID           PIONIER_gen_tec_setup\n",
       "ERROR                            False\n",
       "Aborted                          False\n",
       "SECONDS                           13.0\n",
       "TEL                                 AT\n",
       "Name: 30, dtype: object"
      ]
     },
     "execution_count": 3,
     "metadata": {},
     "output_type": "execute_result"
    }
   ],
   "source": [
    "df_meta.iloc[TRACE_ID]"
   ]
  },
  {
   "cell_type": "code",
   "execution_count": 4,
   "metadata": {},
   "outputs": [],
   "source": [
    "trace_id=10"
   ]
  },
  {
   "cell_type": "code",
   "execution_count": 5,
   "metadata": {},
   "outputs": [
    {
     "ename": "IndexError",
     "evalue": "single positional indexer is out-of-bounds",
     "output_type": "error",
     "traceback": [
      "\u001b[1;31m---------------------------------------------------------------------------\u001b[0m",
      "\u001b[1;31mIndexError\u001b[0m                                Traceback (most recent call last)",
      "Cell \u001b[1;32mIn[5], line 1\u001b[0m\n\u001b[1;32m----> 1\u001b[0m \u001b[43mdf_trace\u001b[49m\u001b[43m[\u001b[49m\u001b[43mdf_trace\u001b[49m\u001b[43m[\u001b[49m\u001b[38;5;124;43m'\u001b[39;49m\u001b[38;5;124;43mtrace_id\u001b[39;49m\u001b[38;5;124;43m'\u001b[39;49m\u001b[43m]\u001b[49m\u001b[43m \u001b[49m\u001b[38;5;241;43m==\u001b[39;49m\u001b[43m \u001b[49m\u001b[43mtrace_id\u001b[49m\u001b[43m]\u001b[49m\u001b[38;5;241;43m.\u001b[39;49m\u001b[43miloc\u001b[49m\u001b[43m[\u001b[49m\u001b[38;5;241;43m0\u001b[39;49m\u001b[43m]\u001b[49m\n",
      "File \u001b[1;32mc:\\Users\\joaco\\anaconda3\\envs\\Paramal\\Lib\\site-packages\\pandas\\core\\indexing.py:1191\u001b[0m, in \u001b[0;36m_LocationIndexer.__getitem__\u001b[1;34m(self, key)\u001b[0m\n\u001b[0;32m   1189\u001b[0m maybe_callable \u001b[38;5;241m=\u001b[39m com\u001b[38;5;241m.\u001b[39mapply_if_callable(key, \u001b[38;5;28mself\u001b[39m\u001b[38;5;241m.\u001b[39mobj)\n\u001b[0;32m   1190\u001b[0m maybe_callable \u001b[38;5;241m=\u001b[39m \u001b[38;5;28mself\u001b[39m\u001b[38;5;241m.\u001b[39m_check_deprecated_callable_usage(key, maybe_callable)\n\u001b[1;32m-> 1191\u001b[0m \u001b[38;5;28;01mreturn\u001b[39;00m \u001b[38;5;28;43mself\u001b[39;49m\u001b[38;5;241;43m.\u001b[39;49m\u001b[43m_getitem_axis\u001b[49m\u001b[43m(\u001b[49m\u001b[43mmaybe_callable\u001b[49m\u001b[43m,\u001b[49m\u001b[43m \u001b[49m\u001b[43maxis\u001b[49m\u001b[38;5;241;43m=\u001b[39;49m\u001b[43maxis\u001b[49m\u001b[43m)\u001b[49m\n",
      "File \u001b[1;32mc:\\Users\\joaco\\anaconda3\\envs\\Paramal\\Lib\\site-packages\\pandas\\core\\indexing.py:1752\u001b[0m, in \u001b[0;36m_iLocIndexer._getitem_axis\u001b[1;34m(self, key, axis)\u001b[0m\n\u001b[0;32m   1749\u001b[0m     \u001b[38;5;28;01mraise\u001b[39;00m \u001b[38;5;167;01mTypeError\u001b[39;00m(\u001b[38;5;124m\"\u001b[39m\u001b[38;5;124mCannot index by location index with a non-integer key\u001b[39m\u001b[38;5;124m\"\u001b[39m)\n\u001b[0;32m   1751\u001b[0m \u001b[38;5;66;03m# validate the location\u001b[39;00m\n\u001b[1;32m-> 1752\u001b[0m \u001b[38;5;28;43mself\u001b[39;49m\u001b[38;5;241;43m.\u001b[39;49m\u001b[43m_validate_integer\u001b[49m\u001b[43m(\u001b[49m\u001b[43mkey\u001b[49m\u001b[43m,\u001b[49m\u001b[43m \u001b[49m\u001b[43maxis\u001b[49m\u001b[43m)\u001b[49m\n\u001b[0;32m   1754\u001b[0m \u001b[38;5;28;01mreturn\u001b[39;00m \u001b[38;5;28mself\u001b[39m\u001b[38;5;241m.\u001b[39mobj\u001b[38;5;241m.\u001b[39m_ixs(key, axis\u001b[38;5;241m=\u001b[39maxis)\n",
      "File \u001b[1;32mc:\\Users\\joaco\\anaconda3\\envs\\Paramal\\Lib\\site-packages\\pandas\\core\\indexing.py:1685\u001b[0m, in \u001b[0;36m_iLocIndexer._validate_integer\u001b[1;34m(self, key, axis)\u001b[0m\n\u001b[0;32m   1683\u001b[0m len_axis \u001b[38;5;241m=\u001b[39m \u001b[38;5;28mlen\u001b[39m(\u001b[38;5;28mself\u001b[39m\u001b[38;5;241m.\u001b[39mobj\u001b[38;5;241m.\u001b[39m_get_axis(axis))\n\u001b[0;32m   1684\u001b[0m \u001b[38;5;28;01mif\u001b[39;00m key \u001b[38;5;241m>\u001b[39m\u001b[38;5;241m=\u001b[39m len_axis \u001b[38;5;129;01mor\u001b[39;00m key \u001b[38;5;241m<\u001b[39m \u001b[38;5;241m-\u001b[39mlen_axis:\n\u001b[1;32m-> 1685\u001b[0m     \u001b[38;5;28;01mraise\u001b[39;00m \u001b[38;5;167;01mIndexError\u001b[39;00m(\u001b[38;5;124m\"\u001b[39m\u001b[38;5;124msingle positional indexer is out-of-bounds\u001b[39m\u001b[38;5;124m\"\u001b[39m)\n",
      "\u001b[1;31mIndexError\u001b[0m: single positional indexer is out-of-bounds"
     ]
    }
   ],
   "source": [
    "df_trace[df_trace['trace_id'] == trace_id].iloc[0]"
   ]
  },
  {
   "cell_type": "code",
   "execution_count": null,
   "metadata": {},
   "outputs": [],
   "source": []
  }
 ],
 "metadata": {
  "kernelspec": {
   "display_name": "Paramal",
   "language": "python",
   "name": "python3"
  },
  "language_info": {
   "codemirror_mode": {
    "name": "ipython",
    "version": 3
   },
   "file_extension": ".py",
   "mimetype": "text/x-python",
   "name": "python",
   "nbconvert_exporter": "python",
   "pygments_lexer": "ipython3",
   "version": "3.12.4"
  }
 },
 "nbformat": 4,
 "nbformat_minor": 2
}
